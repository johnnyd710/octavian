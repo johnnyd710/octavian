{
 "cells": [
  {
   "cell_type": "code",
   "execution_count": 6,
   "metadata": {},
   "outputs": [],
   "source": [
    "import zipfile\n",
    "with zipfile.ZipFile(\"../data/iChallene-AMD-Training400.zip\", 'r') as zip_ref:\n",
    "    zip_ref.extract('Training400/AMD/A0001.jpg', 'temp')"
   ]
  },
  {
   "cell_type": "code",
   "execution_count": 12,
   "metadata": {},
   "outputs": [],
   "source": [
    "import cv2\n",
    "import numpy as np\n",
    "\n",
    "img = cv2.imread('./temp/Training400/AMD/A0001.jpg')"
   ]
  },
  {
   "cell_type": "code",
   "execution_count": 13,
   "metadata": {
    "tags": []
   },
   "outputs": [],
   "source": [
    "def showImage(img):\n",
    "    cv2.namedWindow('image', cv2.WINDOW_NORMAL)\n",
    "    cv2.resizeWindow('image', 600,600)\n",
    "    cv2.imshow('image',img)\n",
    "    cv2.waitKey(0)\n",
    "    cv2.destroyAllWindows()\n",
    "showImage(img)"
   ]
  },
  {
   "cell_type": "code",
   "execution_count": 14,
   "metadata": {
    "tags": []
   },
   "outputs": [],
   "source": [
    "# detect circles using Hough Circles algorithm\n",
    "cimg = cv2.cvtColor(img,cv2.COLOR_BGR2GRAY)\n",
    "\n",
    "cimg = cv2.medianBlur(cimg,5)\n",
    "\n",
    "showImage(cimg)\n"
   ]
  },
  {
   "cell_type": "code",
   "execution_count": 16,
   "metadata": {
    "tags": []
   },
   "outputs": [],
   "source": [
    "circles = cv2.HoughCircles(cimg,cv2.HOUGH_GRADIENT,1,50,\n",
    "                            param1=50,param2=30,minRadius=50,maxRadius=0)\n",
    "\n",
    "circles = np.uint16(np.around(circles))\n",
    "circles_img = img.copy()\n",
    "for i in circles[0,:]:\n",
    "    # draw the outer circle\n",
    "    cv2.circle(circles_img,(i[0],i[1]),i[2],(0,255,0),2)\n",
    "    # draw the center of the circle\n",
    "    cv2.circle(circles_img,(i[0],i[1]),2,(0,0,255),3)\n",
    "\n",
    "showImage(circles_img)"
   ]
  },
  {
   "cell_type": "code",
   "execution_count": null,
   "metadata": {},
   "outputs": [],
   "source": []
  }
 ],
 "metadata": {
  "kernelspec": {
   "display_name": "Python 3",
   "language": "python",
   "name": "python3"
  },
  "language_info": {
   "codemirror_mode": {
    "name": "ipython",
    "version": 3
   },
   "file_extension": ".py",
   "mimetype": "text/x-python",
   "name": "python",
   "nbconvert_exporter": "python",
   "pygments_lexer": "ipython3",
   "version": "3.6.9-final"
  }
 },
 "nbformat": 4,
 "nbformat_minor": 2
}